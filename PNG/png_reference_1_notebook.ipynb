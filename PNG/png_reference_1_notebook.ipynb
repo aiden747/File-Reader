{
 "cells": [
  {
   "cell_type": "code",
   "execution_count": null,
   "metadata": {},
   "outputs": [],
   "source": [
    "# Import libraries\n",
    "import base64\n",
    "from http import client\n",
    "import json\n",
    "from pathlib import Path\n",
    "from mistralai import Mistral, TextChunk\n",
    "from mistralai import ImageURLChunk"
   ]
  },
  {
   "cell_type": "code",
   "execution_count": null,
   "metadata": {},
   "outputs": [],
   "source": [
    "# Initialize the Mistral client with your API key\n",
    "api_key = \"____\"\n",
    "client = Mistral(api_key=api_key)"
   ]
  },
  {
   "cell_type": "code",
   "execution_count": null,
   "metadata": {},
   "outputs": [],
   "source": [
    "# Verify image exists\n",
    "image_file = Path(\"receipt.png\")\n",
    "assert image_file.is_file()"
   ]
  },
  {
   "cell_type": "code",
   "execution_count": null,
   "metadata": {},
   "outputs": [],
   "source": [
    "# Encode image as base64 for API\n",
    "encoded = base64.b64encode(image_file.read_bytes()).decode()\n",
    "base64_data_url = f\"data:image/jpeg;base64,{encoded}\""
   ]
  },
  {
   "cell_type": "code",
   "execution_count": null,
   "metadata": {},
   "outputs": [],
   "source": [
    "# Process image with OCR\n",
    "image_response = client.ocr.process(\n",
    "    document=ImageURLChunk(image_url=base64_data_url),\n",
    "    model=\"mistral-ocr-latest\"\n",
    ")"
   ]
  },
  {
   "cell_type": "code",
   "execution_count": null,
   "metadata": {},
   "outputs": [],
   "source": [
    "# Convert response to JSON\n",
    "response_dict = json.loads(image_response.model_dump_json())\n",
    "json_string = json.dumps(response_dict, indent=4)\n",
    "print(json_string)"
   ]
  },
  {
   "cell_type": "code",
   "execution_count": null,
   "metadata": {},
   "outputs": [],
   "source": [
    "# Get OCR results for processing\n",
    "image_ocr_markdown = image_response.pages[0].markdown"
   ]
  },
  {
   "cell_type": "code",
   "execution_count": null,
   "metadata": {},
   "outputs": [],
   "source": [
    "# Get structured response from model\n",
    "chat_response = client.chat.complete(\n",
    "    model=\"pixtral-12b-latest\",\n",
    "    messages=[\n",
    "        {\n",
    "            \"role\": \"user\",\n",
    "            \"content\": [\n",
    "                ImageURLChunk(image_url=base64_data_url),\n",
    "                TextChunk(\n",
    "                    text=(\n",
    "                        f\"This is image's OCR in markdown:\\n\\n{image_ocr_markdown}\\n.\\n\"\n",
    "                        \"Convert this into a sensible structured json response. \"\n",
    "                        \"The output should be strictly be json with no extra commentary\"\n",
    "                    )\n",
    "                ),\n",
    "            ],\n",
    "        }\n",
    "    ],\n",
    "    response_format={\"type\": \"json_object\"},\n",
    "    temperature=0,\n",
    ")"
   ]
  },
  {
   "cell_type": "code",
   "execution_count": null,
   "metadata": {},
   "outputs": [],
   "source": [
    "# Parse and return JSON response\n",
    "response_dict = json.loads(chat_response.choices[0].message.content)\n",
    "print(json.dumps(response_dict, indent=4))"
   ]
  },
  {
   "cell_type": "code",
   "execution_count": null,
   "metadata": {},
   "outputs": [],
   "source": [
    "# Get OCR results for processing\n",
    "image_ocr_markdown = image_response.pages[0].markdown"
   ]
  },
  {
   "cell_type": "code",
   "execution_count": null,
   "metadata": {},
   "outputs": [],
   "source": [
    "# Get structured response from model\n",
    "chat_response = client.chat.complete(\n",
    "    model=\"ministral-8b-latest\",\n",
    "    messages=[\n",
    "        {\n",
    "            \"role\": \"user\",\n",
    "            \"content\": [\n",
    "                TextChunk(\n",
    "                    text=(\n",
    "                        f\"This is image's OCR in markdown:\\n\\n{image_ocr_markdown}\\n.\\n\"\n",
    "                        \"Convert this into a sensible structured json response. \"\n",
    "                        \"The output should be strictly be json with no extra commentary\"\n",
    "                    )\n",
    "                ),\n",
    "            ],\n",
    "        }\n",
    "    ],\n",
    "    response_format={\"type\": \"json_object\"},\n",
    "    temperature=0,\n",
    ")"
   ]
  },
  {
   "cell_type": "code",
   "execution_count": null,
   "metadata": {},
   "outputs": [],
   "source": [
    "# Parse and return JSON response\n",
    "response_dict = json.loads(chat_response.choices[0].message.content)\n",
    "print(json.dumps(response_dict, indent=4))\n"
   ]
  }
 ],
 "metadata": {
  "kernelspec": {
   "display_name": "Python 3",
   "language": "python",
   "name": "python3"
  },
  "language_info": {
   "codemirror_mode": {
    "name": "ipython",
    "version": 3
   },
   "file_extension": ".py",
   "mimetype": "text/x-python",
   "name": "python",
   "nbconvert_exporter": "python",
   "pygments_lexer": "ipython3",
   "version": "3.11.9"
  }
 },
 "nbformat": 4,
 "nbformat_minor": 2
}
