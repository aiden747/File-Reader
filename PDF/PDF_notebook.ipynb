{
 "cells": [
  {
   "cell_type": "code",
   "execution_count": 1,
   "metadata": {},
   "outputs": [],
   "source": [
    "# Libraries\n",
    "from pathlib import Path\n",
    "from mistralai import Mistral, DocumentURLChunk\n",
    "from mistralai.models import OCRResponse"
   ]
  },
  {
   "cell_type": "code",
   "execution_count": null,
   "metadata": {},
   "outputs": [],
   "source": [
    "# API key\n",
    "api_key = \"_____\""
   ]
  },
  {
   "cell_type": "code",
   "execution_count": null,
   "metadata": {},
   "outputs": [],
   "source": [
    "# File path\n",
    "pdf_file = Path(\"_____\")"
   ]
  },
  {
   "cell_type": "code",
   "execution_count": 4,
   "metadata": {},
   "outputs": [],
   "source": [
    "# Mistral client\n",
    "client = Mistral(api_key=api_key)"
   ]
  },
  {
   "cell_type": "code",
   "execution_count": 5,
   "metadata": {},
   "outputs": [],
   "source": [
    "# Verifies the file exists\n",
    "try:\n",
    "    assert pdf_file.is_file()\n",
    "except AssertionError:\n",
    "    print(f\"File [{pdf_file}] does not exist.\")"
   ]
  },
  {
   "cell_type": "code",
   "execution_count": 6,
   "metadata": {},
   "outputs": [],
   "source": [
    "# Stores the response after Uploading the PDF file to Mistrals servers\n",
    "uploaded_file = client.files.upload(\n",
    "    file={\n",
    "        \"file_name\": pdf_file.stem,\n",
    "        \"content\": pdf_file.read_bytes(),\n",
    "    },\n",
    "    purpose=\"ocr\",\n",
    ")"
   ]
  },
  {
   "cell_type": "code",
   "execution_count": 7,
   "metadata": {},
   "outputs": [],
   "source": [
    "# Stores a temporary, secure URL that allows access to the uploaded PDF file on Mistrlals servers\n",
    "signed_url = client.files.get_signed_url(file_id=uploaded_file.id, expiry=1)"
   ]
  },
  {
   "cell_type": "code",
   "execution_count": 8,
   "metadata": {},
   "outputs": [],
   "source": [
    "# Stores the results of the OCR process from the uploaded PDF file\n",
    "pdf_response = client.ocr.process(\n",
    "    document=DocumentURLChunk(document_url=signed_url.url),\n",
    "    model=\"mistral-ocr-latest\",\n",
    "    include_image_base64=True\n",
    ")"
   ]
  },
  {
   "cell_type": "code",
   "execution_count": 9,
   "metadata": {},
   "outputs": [],
   "source": [
    "# Replaces the image placeholders in the Markdown string with their corresponding base64-encoded image data\n",
    "def replace_images_in_markdown(markdown_str: str, images_dict: dict) -> str:\n",
    "    for img_name, base64_str in images_dict.items():\n",
    "        markdown_str = markdown_str.replace(\n",
    "            f\"![{img_name}]({img_name})\", f\"![{img_name}]({base64_str})\"\n",
    "        )\n",
    "\n",
    "    # Returns the modified Markdown string\n",
    "    return markdown_str"
   ]
  },
  {
   "cell_type": "code",
   "execution_count": 10,
   "metadata": {},
   "outputs": [],
   "source": [
    "# Combines the extracted text and images from the OCR response into a single string in Markdown format\n",
    "def get_combined_markdown(ocr_response: OCRResponse) -> str:\n",
    "    markdowns: list[str] = []\n",
    "\n",
    "    # Creates a new empty dictionary for each page in the OCR response\n",
    "    for page in ocr_response.pages:\n",
    "        image_data = {}\n",
    "\n",
    "        # Iterates through each image on the page and stores the base64 image data\n",
    "        for img in page.images:\n",
    "            image_data[img.id] = img.image_base64\n",
    "\n",
    "        # Appends the result of the function to the markdowns list\n",
    "        markdowns.append(replace_images_in_markdown(page.markdown, image_data))\n",
    "\n",
    "    # Combines all the Markdown strings into a single string\n",
    "    return \"\\n\\n\".join(markdowns)"
   ]
  },
  {
   "cell_type": "code",
   "execution_count": 11,
   "metadata": {},
   "outputs": [],
   "source": [
    "# Get the combined Markdown content from the OCR response\n",
    "combined_markdown = get_combined_markdown(pdf_response)"
   ]
  },
  {
   "cell_type": "code",
   "execution_count": 12,
   "metadata": {},
   "outputs": [],
   "source": [
    "# Create the name of the Markdown file\n",
    "output_file = f'{pdf_file.stem}.md'"
   ]
  },
  {
   "cell_type": "code",
   "execution_count": 13,
   "metadata": {},
   "outputs": [],
   "source": [
    "# Write the combined Markdown content to a file\n",
    "with open(output_file, 'w', encoding='utf-8') as f:\n",
    "    f.write(combined_markdown)"
   ]
  },
  {
   "cell_type": "code",
   "execution_count": 14,
   "metadata": {},
   "outputs": [
    {
     "name": "stdout",
     "output_type": "stream",
     "text": [
      "Markdown content has been saved to: Grazed Foundation (Profile and Proposal).V1 02192025.md\n"
     ]
    }
   ],
   "source": [
    "# Print the location of the saved Markdown file\n",
    "print(f\"Markdown content has been saved to: {output_file}\")"
   ]
  }
 ],
 "metadata": {
  "kernelspec": {
   "display_name": "Python 3",
   "language": "python",
   "name": "python3"
  },
  "language_info": {
   "codemirror_mode": {
    "name": "ipython",
    "version": 3
   },
   "file_extension": ".py",
   "mimetype": "text/x-python",
   "name": "python",
   "nbconvert_exporter": "python",
   "pygments_lexer": "ipython3",
   "version": "3.11.9"
  }
 },
 "nbformat": 4,
 "nbformat_minor": 2
}
