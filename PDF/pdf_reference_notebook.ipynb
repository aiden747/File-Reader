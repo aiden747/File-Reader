{
 "cells": [
  {
   "cell_type": "code",
   "execution_count": null,
   "id": "fbc7d0e3",
   "metadata": {},
   "outputs": [],
   "source": [
    "# Import required libraries\n",
    "from pathlib import Path\n",
    "from mistralai import DocumentURLChunk, ImageURLChunk, TextChunk\n",
    "import json\n",
    "from mistralai.models import OCRResponse\n",
    "from IPython.display import Markdown, display\n",
    "from mistralai import Mistral\n"
   ]
  },
  {
   "cell_type": "code",
   "execution_count": null,
   "id": "10242fc2",
   "metadata": {},
   "outputs": [],
   "source": [
    "# Initialize Mistral client with API key\n",
    "api_key = \"____\" # Replace with your API key\n",
    "client = Mistral(api_key=api_key)"
   ]
  },
  {
   "cell_type": "code",
   "execution_count": null,
   "id": "206b57d6",
   "metadata": {},
   "outputs": [],
   "source": [
    "# Verify PDF file exists\n",
    "pdf_file = Path(\"____.pdf\")\n",
    "assert pdf_file.is_file()"
   ]
  },
  {
   "cell_type": "code",
   "execution_count": null,
   "id": "3f251c0d",
   "metadata": {},
   "outputs": [],
   "source": [
    "# Upload PDF file to Mistral's OCR service\n",
    "uploaded_file = client.files.upload(\n",
    "    file={\n",
    "        \"file_name\": pdf_file.stem,\n",
    "        \"content\": pdf_file.read_bytes(),\n",
    "    },\n",
    "    purpose=\"ocr\",\n",
    ")"
   ]
  },
  {
   "cell_type": "code",
   "execution_count": null,
   "id": "f88dbbe3",
   "metadata": {},
   "outputs": [],
   "source": [
    "# Get URL for the uploaded file\n",
    "signed_url = client.files.get_signed_url(file_id=uploaded_file.id, expiry=1)"
   ]
  },
  {
   "cell_type": "code",
   "execution_count": null,
   "id": "822f4d47",
   "metadata": {},
   "outputs": [],
   "source": [
    "# Process PDF with OCR, including embedded images\n",
    "pdf_response = client.ocr.process(\n",
    "    document=DocumentURLChunk(document_url=signed_url.url),\n",
    "    model=\"mistral-ocr-latest\",\n",
    "    include_image_base64=True\n",
    ")"
   ]
  },
  {
   "cell_type": "code",
   "execution_count": null,
   "id": "44dbc4a5",
   "metadata": {},
   "outputs": [],
   "source": [
    "# Convert response to JSON format\n",
    "response_dict = json.loads(pdf_response.model_dump_json())\n",
    "print(json.dumps(response_dict, indent=4)[0:1000]) # check the first 1000 characters"
   ]
  },
  {
   "cell_type": "code",
   "execution_count": null,
   "id": "70369d4a",
   "metadata": {},
   "outputs": [],
   "source": [
    "def replace_images_in_markdown(markdown_str: str, images_dict: dict) -> str:\n",
    "    \"\"\"\n",
    "    Replace image placeholders in markdown with base64-encoded images.\n",
    "\n",
    "    Args:\n",
    "        markdown_str: Markdown text containing image placeholders\n",
    "        images_dict: Dictionary mapping image IDs to base64 strings\n",
    "\n",
    "    Returns:\n",
    "        Markdown text with images replaced by base64 data\n",
    "    \"\"\"\n",
    "    for img_name, base64_str in images_dict.items():\n",
    "        markdown_str = markdown_str.replace(\n",
    "            f\"![{img_name}]({img_name})\", f\"![{img_name}]({base64_str})\"\n",
    "        )\n",
    "    return markdown_str"
   ]
  },
  {
   "cell_type": "code",
   "execution_count": null,
   "id": "e65d3d45",
   "metadata": {},
   "outputs": [],
   "source": [
    "def get_combined_markdown(ocr_response: OCRResponse) -> str:\n",
    "    \"\"\"\n",
    "    Combine OCR text and images into a single markdown document.\n",
    "\n",
    "    Args:\n",
    "        ocr_response: Response from OCR processing containing text and images\n",
    "\n",
    "    Returns:\n",
    "        Combined markdown string with embedded images\n",
    "    \"\"\"\n",
    "    markdowns: list[str] = []\n",
    "    # Extract images from page\n",
    "    for page in ocr_response.pages:\n",
    "        image_data = {}\n",
    "        for img in page.images:\n",
    "            image_data[img.id] = img.image_base64\n",
    "        # Replace image placeholders with actual images\n",
    "        markdowns.append(replace_images_in_markdown(page.markdown, image_data))\n",
    "\n",
    "    return \"\\n\\n\".join(markdowns)"
   ]
  },
  {
   "cell_type": "code",
   "execution_count": null,
   "id": "2fa54cb1",
   "metadata": {},
   "outputs": [],
   "source": [
    "# Combine OCR text and images into a single Markdown document\n",
    "combined_markdown = get_combined_markdown(pdf_response)"
   ]
  },
  {
   "cell_type": "code",
   "execution_count": null,
   "id": "d8f5b2e4",
   "metadata": {},
   "outputs": [],
   "source": [
    "# Save the Markdown content to a file\n",
    "output_file = 'output.md' # Specify output file name\n",
    "with open(output_file, 'w', encoding='utf-8') as f:\n",
    "    f.write(combined_markdown)"
   ]
  },
  {
   "cell_type": "code",
   "execution_count": null,
   "id": "ea8204ae",
   "metadata": {},
   "outputs": [],
   "source": [
    "print(f\"Markdown content has been saved to {output_file}\")"
   ]
  },
  {
   "cell_type": "code",
   "execution_count": null,
   "id": "c2c0a005",
   "metadata": {},
   "outputs": [],
   "source": [
    "# Optionally display Markdown content\n",
    "display(Markdown(combined_markdown))"
   ]
  }
 ],
 "metadata": {
  "language_info": {
   "name": "python"
  }
 },
 "nbformat": 4,
 "nbformat_minor": 5
}
