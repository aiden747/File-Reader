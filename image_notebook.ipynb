{
 "cells": [
  {
   "cell_type": "code",
   "execution_count": 29,
   "metadata": {},
   "outputs": [],
   "source": [
    "import base64\n",
    "#from http import client\n",
    "import json\n",
    "from pathlib import Path\n",
    "from mistralai import Mistral, ImageURLChunk, TextChunk\n"
   ]
  },
  {
   "cell_type": "code",
   "execution_count": 30,
   "metadata": {},
   "outputs": [],
   "source": [
    "api_key = \"HLZgmBN1xuTeaA3XRNjQza9SjUP6M267\"\n",
    "client = Mistral(api_key=api_key)\n"
   ]
  },
  {
   "cell_type": "code",
   "execution_count": 31,
   "metadata": {},
   "outputs": [],
   "source": [
    "\n",
    "# Verify image exists\n",
    "image_file = Path(\"receipt.png\")\n",
    "assert image_file.is_file()\n"
   ]
  },
  {
   "cell_type": "code",
   "execution_count": 32,
   "metadata": {},
   "outputs": [],
   "source": [
    "\n",
    "# Encode image as base64 for API\n",
    "encoded = base64.b64encode(image_file.read_bytes()).decode()\n",
    "base64_data_url = f\"data:image/jpeg;base64,{encoded}\"\n"
   ]
  },
  {
   "cell_type": "code",
   "execution_count": 33,
   "metadata": {},
   "outputs": [],
   "source": [
    "\n",
    "# Process image with OCR\n",
    "image_response = client.ocr.process(\n",
    "    document=ImageURLChunk(image_url=base64_data_url),\n",
    "    model=\"mistral-ocr-latest\"\n",
    ")\n"
   ]
  },
  {
   "cell_type": "code",
   "execution_count": 34,
   "metadata": {},
   "outputs": [
    {
     "name": "stdout",
     "output_type": "stream",
     "text": [
      "{\n",
      "    \"pages\": [\n",
      "        {\n",
      "            \"index\": 0,\n",
      "            \"markdown\": \"# PLACE FACE UP ON DASH <br> CITY OF PALO ALTO <br> NOT VALID FOR ONSTREET PARKING \\n\\nExpiration Date/Time 11:59 PM\\n\\nAUG 19, 2024\\n\\nPurchase Date/Time: 01:34pm Aug 19, 2024\\nTotal Due: $\\\\$ 15.00$\\nRate: Daily Parking\\nTotal Paid: $\\\\$ 15.00$\\nPmt Type: CC (Swipe)\\nTicket \\\\#: 00005883\\nS/N \\\\#: 520117260957\\nSetting: Permit Machines\\nMach Name: Civic Center\\n\\\\#^^^^-1224, Visa\\nDISPLAY FACE UP ON DASH\\n\\nPERMIT EXPIRES\\nAT MIDNIGHT\",\n",
      "            \"images\": [],\n",
      "            \"dimensions\": {\n",
      "                \"dpi\": 200,\n",
      "                \"height\": 3210,\n",
      "                \"width\": 1806\n",
      "            }\n",
      "        }\n",
      "    ],\n",
      "    \"model\": \"mistral-ocr-2503-completion\",\n",
      "    \"usage_info\": {\n",
      "        \"pages_processed\": 1,\n",
      "        \"doc_size_bytes\": 3110191\n",
      "    }\n",
      "}\n"
     ]
    }
   ],
   "source": [
    "\n",
    "# Convert response to JSON\n",
    "response_dict = json.loads(image_response.model_dump_json())\n",
    "json_string = json.dumps(response_dict, indent=4)\n",
    "print(json_string)"
   ]
  },
  {
   "cell_type": "code",
   "execution_count": 35,
   "metadata": {},
   "outputs": [],
   "source": [
    "# Get OCR results for processing\n",
    "image_ocr_markdown = image_response.pages[0].markdown"
   ]
  },
  {
   "cell_type": "code",
   "execution_count": 36,
   "metadata": {},
   "outputs": [],
   "source": [
    "# Get structured response from model\n",
    "chat_response = client.chat.complete(\n",
    "    model=\"pixtral-12b-latest\",\n",
    "    messages=[\n",
    "        {\n",
    "            \"role\": \"user\",\n",
    "            \"content\": [\n",
    "                ImageURLChunk(image_url=base64_data_url),\n",
    "                TextChunk(\n",
    "                    text=(\n",
    "                        f\"This is image's OCR in markdown:\\n\\n{image_ocr_markdown}\\n.\\n\"\n",
    "                        \"Convert this into a sensible structured json response. \"\n",
    "                        \"The output should be strictly be json with no extra commentary\"\n",
    "                    )\n",
    "                ),\n",
    "            ],\n",
    "        }\n",
    "    ],\n",
    "    response_format={\"type\": \"json_object\"},\n",
    "    temperature=0,\n",
    ")"
   ]
  },
  {
   "cell_type": "code",
   "execution_count": 45,
   "metadata": {},
   "outputs": [
    {
     "name": "stdout",
     "output_type": "stream",
     "text": [
      "expiration_date_time ----- 11:59 PM\n",
      "\n",
      "expiration_date ----- AUG 19, 2024\n",
      "\n",
      "purchase_date_time ----- 01:34pm Aug 19, 2024\n",
      "\n",
      "total_due ----- 15.0\n",
      "\n",
      "rate ----- Daily Parking\n",
      "\n",
      "total_paid ----- 15.0\n",
      "\n",
      "payment_type ----- CC (Swipe)\n",
      "\n",
      "ticket_number ----- 00005883\n",
      "\n",
      "serial_number ----- 520117260957\n",
      "\n",
      "setting ----- Permit Machines\n",
      "\n",
      "machine_name ----- Civic Center\n",
      "\n",
      "card_number ----- 1224\n",
      "\n",
      "card_type ----- Visa\n",
      "\n"
     ]
    }
   ],
   "source": [
    "# Parse and return JSON response\n",
    "response_dict = json.loads(chat_response.choices[0].message.content)\n",
    "print(json.dumps(response_dict, indent=4))\\\n",
   ]
  },
  {
   "cell_type": "code",
   "execution_count": 38,
   "metadata": {},
   "outputs": [],
   "source": [
    "# Get OCR results for processing\n",
    "image_ocr_markdown = image_response.pages[0].markdown"
   ]
  },
  {
   "cell_type": "code",
   "execution_count": 39,
   "metadata": {},
   "outputs": [],
   "source": [
    "# Get structured response from model\n",
    "chat_response = client.chat.complete(\n",
    "    model=\"ministral-8b-latest\",\n",
    "    messages=[\n",
    "        {\n",
    "            \"role\": \"user\",\n",
    "            \"content\": [\n",
    "                TextChunk(\n",
    "                    text=(\n",
    "                        f\"This is image's OCR in markdown:\\n\\n{image_ocr_markdown}\\n.\\n\"\n",
    "                        \"Convert this into a sensible structured json response. \"\n",
    "                        \"The output should be strictly be json with no extra commentary\"\n",
    "                    )\n",
    "                ),\n",
    "            ],\n",
    "        }\n",
    "    ],\n",
    "    response_format={\"type\": \"json_object\"},\n",
    "    temperature=0,\n",
    ")"
   ]
  },
  {
   "cell_type": "code",
   "execution_count": 40,
   "metadata": {},
   "outputs": [
    {
     "name": "stdout",
     "output_type": "stream",
     "text": [
      "{\n",
      "    \"expiration_date_time\": \"11:59 PM\",\n",
      "    \"expiration_date\": \"AUG 19, 2024\",\n",
      "    \"purchase_date_time\": \"01:34pm Aug 19, 2024\",\n",
      "    \"total_due\": 15.0,\n",
      "    \"rate\": \"Daily Parking\",\n",
      "    \"total_paid\": 15.0,\n",
      "    \"payment_type\": \"CC (Swipe)\",\n",
      "    \"ticket_number\": \"00005883\",\n",
      "    \"serial_number\": \"520117260957\",\n",
      "    \"setting\": \"Permit Machines\",\n",
      "    \"machine_name\": \"Civic Center\",\n",
      "    \"card_number\": \"1224\",\n",
      "    \"card_type\": \"Visa\"\n",
      "}\n"
     ]
    }
   ],
   "source": [
    "# Parse and return JSON response\n",
    "response_dict = json.loads(chat_response.choices[0].message.content)\n",
    "print(json.dumps(response_dict, indent=4))"
   ]
  }
 ],
 "metadata": {
  "kernelspec": {
   "display_name": "Python 3",
   "language": "python",
   "name": "python3"
  },
  "language_info": {
   "codemirror_mode": {
    "name": "ipython",
    "version": 3
   },
   "file_extension": ".py",
   "mimetype": "text/x-python",
   "name": "python",
   "nbconvert_exporter": "python",
   "pygments_lexer": "ipython3",
   "version": "3.11.9"
  }
 },
 "nbformat": 4,
 "nbformat_minor": 2
}
